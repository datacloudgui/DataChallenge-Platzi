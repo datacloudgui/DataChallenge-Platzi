{
 "metadata": {
  "language_info": {
   "codemirror_mode": {
    "name": "ipython",
    "version": 3
   },
   "file_extension": ".py",
   "mimetype": "text/x-python",
   "name": "python",
   "nbconvert_exporter": "python",
   "pygments_lexer": "ipython3",
   "version": 3
  },
  "orig_nbformat": 2,
  "kernelspec": {
   "name": "python_defaultSpec_1597003853816",
   "display_name": "Python 3.6.9 64-bit ('env': venv)"
  }
 },
 "nbformat": 4,
 "nbformat_minor": 2,
 "cells": [
  {
   "cell_type": "code",
   "execution_count": 1,
   "metadata": {},
   "outputs": [],
   "source": [
    "import pandas as pd\n",
    "import numpy as np"
   ]
  },
  {
   "cell_type": "markdown",
   "metadata": {},
   "source": [
    "# Load data"
   ]
  },
  {
   "cell_type": "code",
   "execution_count": 2,
   "metadata": {},
   "outputs": [],
   "source": [
    "train_df = pd.read_csv('train.csv')\n",
    "test_df = pd.read_csv('test.csv')\n",
    "test_ans_df = pd.read_csv('gender_submission.csv')"
   ]
  },
  {
   "cell_type": "code",
   "execution_count": 3,
   "metadata": {},
   "outputs": [
    {
     "output_type": "execute_result",
     "data": {
      "text/plain": "     PassengerId  Survived  Pclass                          Name     Sex  \\\n413         1305         0       3            Spector, Mr. Woolf    male   \n414         1306         1       1  Oliva y Ocana, Dona. Fermina  female   \n415         1307         0       3  Saether, Mr. Simon Sivertsen    male   \n416         1308         0       3           Ware, Mr. Frederick    male   \n417         1309         0       3      Peter, Master. Michael J    male   \n\n      Age  SibSp  Parch              Ticket      Fare Cabin Embarked  \n413   NaN      0      0           A.5. 3236    8.0500   NaN        S  \n414  39.0      0      0            PC 17758  108.9000  C105        C  \n415  38.5      0      0  SOTON/O.Q. 3101262    7.2500   NaN        S  \n416   NaN      0      0              359309    8.0500   NaN        S  \n417   NaN      1      1                2668   22.3583   NaN        C  ",
      "text/html": "<div>\n<style scoped>\n    .dataframe tbody tr th:only-of-type {\n        vertical-align: middle;\n    }\n\n    .dataframe tbody tr th {\n        vertical-align: top;\n    }\n\n    .dataframe thead th {\n        text-align: right;\n    }\n</style>\n<table border=\"1\" class=\"dataframe\">\n  <thead>\n    <tr style=\"text-align: right;\">\n      <th></th>\n      <th>PassengerId</th>\n      <th>Survived</th>\n      <th>Pclass</th>\n      <th>Name</th>\n      <th>Sex</th>\n      <th>Age</th>\n      <th>SibSp</th>\n      <th>Parch</th>\n      <th>Ticket</th>\n      <th>Fare</th>\n      <th>Cabin</th>\n      <th>Embarked</th>\n    </tr>\n  </thead>\n  <tbody>\n    <tr>\n      <th>413</th>\n      <td>1305</td>\n      <td>0</td>\n      <td>3</td>\n      <td>Spector, Mr. Woolf</td>\n      <td>male</td>\n      <td>NaN</td>\n      <td>0</td>\n      <td>0</td>\n      <td>A.5. 3236</td>\n      <td>8.0500</td>\n      <td>NaN</td>\n      <td>S</td>\n    </tr>\n    <tr>\n      <th>414</th>\n      <td>1306</td>\n      <td>1</td>\n      <td>1</td>\n      <td>Oliva y Ocana, Dona. Fermina</td>\n      <td>female</td>\n      <td>39.0</td>\n      <td>0</td>\n      <td>0</td>\n      <td>PC 17758</td>\n      <td>108.9000</td>\n      <td>C105</td>\n      <td>C</td>\n    </tr>\n    <tr>\n      <th>415</th>\n      <td>1307</td>\n      <td>0</td>\n      <td>3</td>\n      <td>Saether, Mr. Simon Sivertsen</td>\n      <td>male</td>\n      <td>38.5</td>\n      <td>0</td>\n      <td>0</td>\n      <td>SOTON/O.Q. 3101262</td>\n      <td>7.2500</td>\n      <td>NaN</td>\n      <td>S</td>\n    </tr>\n    <tr>\n      <th>416</th>\n      <td>1308</td>\n      <td>0</td>\n      <td>3</td>\n      <td>Ware, Mr. Frederick</td>\n      <td>male</td>\n      <td>NaN</td>\n      <td>0</td>\n      <td>0</td>\n      <td>359309</td>\n      <td>8.0500</td>\n      <td>NaN</td>\n      <td>S</td>\n    </tr>\n    <tr>\n      <th>417</th>\n      <td>1309</td>\n      <td>0</td>\n      <td>3</td>\n      <td>Peter, Master. Michael J</td>\n      <td>male</td>\n      <td>NaN</td>\n      <td>1</td>\n      <td>1</td>\n      <td>2668</td>\n      <td>22.3583</td>\n      <td>NaN</td>\n      <td>C</td>\n    </tr>\n  </tbody>\n</table>\n</div>"
     },
     "metadata": {},
     "execution_count": 3
    }
   ],
   "source": [
    "test_data = test_df.merge(test_ans_df, on='PassengerId')\n",
    "tita_df = pd.concat([train_df, test_data])\n",
    "tita_df.tail()"
   ]
  },
  {
   "cell_type": "markdown",
   "metadata": {},
   "source": [
    "## Numero de personas"
   ]
  },
  {
   "cell_type": "code",
   "execution_count": 21,
   "metadata": {},
   "outputs": [
    {
     "output_type": "execute_result",
     "data": {
      "text/plain": "1309"
     },
     "metadata": {},
     "execution_count": 21
    }
   ],
   "source": [
    "tita_df.shape[0]"
   ]
  },
  {
   "cell_type": "markdown",
   "metadata": {},
   "source": [
    "## Hombres y mujeres que sobrevivieron"
   ]
  },
  {
   "cell_type": "code",
   "execution_count": 17,
   "metadata": {},
   "outputs": [
    {
     "output_type": "execute_result",
     "data": {
      "text/plain": "109"
     },
     "metadata": {},
     "execution_count": 17
    }
   ],
   "source": [
    "male_survivers = tita_df[(tita_df['Survived']== 1) & (tita_df['Sex']== 'male')].shape[0]\n",
    "male_survivers"
   ]
  },
  {
   "cell_type": "code",
   "execution_count": 20,
   "metadata": {},
   "outputs": [
    {
     "output_type": "execute_result",
     "data": {
      "text/plain": "385"
     },
     "metadata": {},
     "execution_count": 20
    }
   ],
   "source": [
    "female_survivers = tita_df[(tita_df['Survived']== 1) & (tita_df['Sex']== 'female')].shape[0]\n",
    "female_survivers"
   ]
  },
  {
   "cell_type": "markdown",
   "metadata": {},
   "source": [
    "## Top 10 survivers and not by Age"
   ]
  },
  {
   "cell_type": "code",
   "execution_count": 49,
   "metadata": {
    "tags": []
   },
   "outputs": [
    {
     "output_type": "stream",
     "name": "stdout",
     "text": "Droped 892 persons without Age\n"
    }
   ],
   "source": [
    "total_survived = tita_df.shape[0]\n",
    "total_age=tita_df.dropna(subset=['Age'])\n",
    "total_with_age=total_age.shape[0]\n",
    "print(f'Droped {total_survived-survived_with_age} persons without Age')"
   ]
  },
  {
   "cell_type": "code",
   "execution_count": 53,
   "metadata": {
    "tags": []
   },
   "outputs": [
    {
     "output_type": "stream",
     "name": "stdout",
     "text": "Top ages survived\n"
    },
    {
     "output_type": "execute_result",
     "data": {
      "text/plain": "     Total\nAge       \n22      21\n24      20\n18      17\n30      16\n36      16\n27      15\n35      14\n29      13\n19      12\n45      12",
      "text/html": "<div>\n<style scoped>\n    .dataframe tbody tr th:only-of-type {\n        vertical-align: middle;\n    }\n\n    .dataframe tbody tr th {\n        vertical-align: top;\n    }\n\n    .dataframe thead th {\n        text-align: right;\n    }\n</style>\n<table border=\"1\" class=\"dataframe\">\n  <thead>\n    <tr style=\"text-align: right;\">\n      <th></th>\n      <th>Total</th>\n    </tr>\n    <tr>\n      <th>Age</th>\n      <th></th>\n    </tr>\n  </thead>\n  <tbody>\n    <tr>\n      <th>22</th>\n      <td>21</td>\n    </tr>\n    <tr>\n      <th>24</th>\n      <td>20</td>\n    </tr>\n    <tr>\n      <th>18</th>\n      <td>17</td>\n    </tr>\n    <tr>\n      <th>30</th>\n      <td>16</td>\n    </tr>\n    <tr>\n      <th>36</th>\n      <td>16</td>\n    </tr>\n    <tr>\n      <th>27</th>\n      <td>15</td>\n    </tr>\n    <tr>\n      <th>35</th>\n      <td>14</td>\n    </tr>\n    <tr>\n      <th>29</th>\n      <td>13</td>\n    </tr>\n    <tr>\n      <th>19</th>\n      <td>12</td>\n    </tr>\n    <tr>\n      <th>45</th>\n      <td>12</td>\n    </tr>\n  </tbody>\n</table>\n</div>"
     },
     "metadata": {},
     "execution_count": 53
    }
   ],
   "source": [
    "total_age['Age']=total_age['Age'].apply(int)\n",
    "survived_age_count=total_age[total_age['Survived']== 1].groupby(by=['Age'])['Age'].count().to_frame('Total')\n",
    "survived_age_count.sort_values(by='Total', ascending=False, inplace=True)\n",
    "print('Top ages survived')\n",
    "survived_age_count.head(10)"
   ]
  },
  {
   "cell_type": "code",
   "execution_count": 55,
   "metadata": {
    "tags": []
   },
   "outputs": [
    {
     "output_type": "stream",
     "name": "stdout",
     "text": "Top ages that not survived\n"
    },
    {
     "output_type": "execute_result",
     "data": {
      "text/plain": "     Total\nAge       \n21      33\n24      28\n25      27\n30      26\n28      26\n18      25\n22      23\n26      21\n32      18\n29      17",
      "text/html": "<div>\n<style scoped>\n    .dataframe tbody tr th:only-of-type {\n        vertical-align: middle;\n    }\n\n    .dataframe tbody tr th {\n        vertical-align: top;\n    }\n\n    .dataframe thead th {\n        text-align: right;\n    }\n</style>\n<table border=\"1\" class=\"dataframe\">\n  <thead>\n    <tr style=\"text-align: right;\">\n      <th></th>\n      <th>Total</th>\n    </tr>\n    <tr>\n      <th>Age</th>\n      <th></th>\n    </tr>\n  </thead>\n  <tbody>\n    <tr>\n      <th>21</th>\n      <td>33</td>\n    </tr>\n    <tr>\n      <th>24</th>\n      <td>28</td>\n    </tr>\n    <tr>\n      <th>25</th>\n      <td>27</td>\n    </tr>\n    <tr>\n      <th>30</th>\n      <td>26</td>\n    </tr>\n    <tr>\n      <th>28</th>\n      <td>26</td>\n    </tr>\n    <tr>\n      <th>18</th>\n      <td>25</td>\n    </tr>\n    <tr>\n      <th>22</th>\n      <td>23</td>\n    </tr>\n    <tr>\n      <th>26</th>\n      <td>21</td>\n    </tr>\n    <tr>\n      <th>32</th>\n      <td>18</td>\n    </tr>\n    <tr>\n      <th>29</th>\n      <td>17</td>\n    </tr>\n  </tbody>\n</table>\n</div>"
     },
     "metadata": {},
     "execution_count": 55
    }
   ],
   "source": [
    "not_survived_age_count=total_age[total_age['Survived']== 0].groupby(by=['Age'])['Age'].count().to_frame('Total')\n",
    "not_survived_age_count.sort_values(by='Total', ascending=False, inplace=True)\n",
    "print('Top ages that not survived')\n",
    "not_survived_age_count.head(10)"
   ]
  },
  {
   "cell_type": "markdown",
   "metadata": {},
   "source": [
    "## Title Mrs, Miss in the Titanic"
   ]
  },
  {
   "cell_type": "code",
   "execution_count": 63,
   "metadata": {
    "tags": []
   },
   "outputs": [
    {
     "output_type": "stream",
     "name": "stdout",
     "text": "Was a total of 18 titles in the ship\n"
    }
   ],
   "source": [
    "tita_df['title'] = tita_df['Name'].apply(lambda x: x.split('.')[0].split(',')[-1].strip())\n",
    "print('Was a total of {} titles in the ship'.format(pd.unique(tita_df['title']).size))"
   ]
  },
  {
   "cell_type": "markdown",
   "metadata": {},
   "source": [
    "## Valor tickets in USD"
   ]
  },
  {
   "cell_type": "code",
   "execution_count": 28,
   "metadata": {},
   "outputs": [
    {
     "output_type": "execute_result",
     "data": {
      "text/plain": "Index(['PassengerId', 'Survived', 'Pclass', 'Name', 'Sex', 'Age', 'SibSp',\n       'Parch', 'Ticket', 'Fare', 'Cabin', 'Embarked'],\n      dtype='object')"
     },
     "metadata": {},
     "execution_count": 28
    }
   ],
   "source": [
    "survived_df.columns"
   ]
  },
  {
   "cell_type": "code",
   "execution_count": 30,
   "metadata": {},
   "outputs": [
    {
     "output_type": "execute_result",
     "data": {
      "text/plain": "43550.4869"
     },
     "metadata": {},
     "execution_count": 30
    }
   ],
   "source": [
    "tita_df['Fare'].sum()"
   ]
  },
  {
   "cell_type": "code",
   "execution_count": 65,
   "metadata": {},
   "outputs": [],
   "source": [
    "tita_df.to_csv('titanic_data_titles.csv')"
   ]
  },
  {
   "cell_type": "code",
   "execution_count": null,
   "metadata": {},
   "outputs": [],
   "source": []
  }
 ]
}